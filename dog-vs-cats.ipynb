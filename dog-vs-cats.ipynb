{
 "cells": [
  {
   "cell_type": "code",
   "execution_count": 3,
   "metadata": {},
   "outputs": [],
   "source": [
    "import os, shutil\n",
    "\n",
    "original_dataset_dir = '/Users/RodolfoSaldanha/Desktop/DL/4_lecture/Lab/dogs-vs-cats/train'\n",
    "\n",
    "base_dir = '/Users/RodolfoSaldanha/Desktop/DL/4_lecture/Lab/dogs-vs-cats_small'\n",
    "os.mkdir(base_dir)\n",
    "\n",
    "train_dir = os.path.join(base_dir, 'train')\n",
    "os.mkdir(train_dir)\n",
    "validation_dir = os.path.join(base_dir, 'validation')\n",
    "os.mkdir(validation_dir)\n",
    "test_dir = os.path.join(base_dir, 'test')\n",
    "os.mkdir(test_dir)\n",
    "\n",
    "train_cats_dir = os.path.join(train_dir, 'cats')\n",
    "os.mkdir(train_cats_dir)\n",
    "train_dogs_dir = os.path.join(train_dir, 'dogs')\n",
    "os.mkdir(train_dogs_dir)\n",
    "\n",
    "validation_cats_dir = os.path.join(validation_dir, 'cats')\n",
    "os.mkdir(validation_cats_dir)\n",
    "validation_dogs_dir = os.path.join(validation_dir, 'dogs')\n",
    "os.mkdir(validation_dogs_dir)\n",
    "\n",
    "test_cats_dir = os.path.join(test_dir, 'cats')\n",
    "os.mkdir(test_cats_dir)\n",
    "test_dogs_dir = os.path.join(test_dir, 'dogs')\n",
    "os.mkdir(test_dogs_dir)"
   ]
  },
  {
   "cell_type": "code",
   "execution_count": 6,
   "metadata": {},
   "outputs": [],
   "source": [
    "fnames = ['cat.{}.jpg'.format(i) for i in range(1000)]\n",
    "for fname in fnames:\n",
    "    src = os.path.join(original_dataset_dir, fname)\n",
    "    dst = os.path.join(train_cats_dir, fname)\n",
    "    shutil.copyfile(src, dst)\n",
    "\n",
    "fnames = ['cat.{}.jpg'.format(i) for i in range(1000, 1500)]\n",
    "for fname in fnames:\n",
    "    src = os.path.join(original_dataset_dir, fname)\n",
    "    dst = os.path.join(validation_cats_dir, fname)\n",
    "    shutil.copyfile(src, dst)\n",
    "\n",
    "fnames = ['cat.{}.jpg'.format(i) for i in range(1500, 2000)]\n",
    "for fname in fnames:\n",
    "    src = os.path.join(original_dataset_dir, fname)\n",
    "    dst = os.path.join(test_cats_dir, fname)\n",
    "    shutil.copyfile(src, dst)\n",
    "\n",
    "fnames = ['dog.{}.jpg'.format(i) for i in range(1000)]\n",
    "for fname in fnames:\n",
    "    src = os.path.join(original_dataset_dir, fname)\n",
    "    dst = os.path.join(train_dogs_dir, fname)\n",
    "    shutil.copyfile(src, dst)\n",
    "\n",
    "fnames = ['dog.{}.jpg'.format(i) for i in range(1000, 1500)]\n",
    "for fname in fnames:\n",
    "    src = os.path.join(original_dataset_dir, fname)\n",
    "    dst = os.path.join(validation_dogs_dir, fname)\n",
    "    shutil.copyfile(src, dst)\n",
    "\n",
    "fnames = ['dog.{}.jpg'.format(i) for i in range(1500, 2000)]\n",
    "for fname in fnames:\n",
    "    src = os.path.join(original_dataset_dir, fname)\n",
    "    dst = os.path.join(test_dogs_dir, fname)\n",
    "    shutil.copyfile(src, dst)"
   ]
  },
  {
   "cell_type": "code",
   "execution_count": 7,
   "metadata": {},
   "outputs": [
    {
     "name": "stdout",
     "output_type": "stream",
     "text": [
      "total training cat images: 1000\n",
      "total training dog images: 1000\n",
      "total validation cat images: 500\n",
      "total validation dog images: 500\n",
      "total test cat images: 500\n",
      "total test dog images: 500\n"
     ]
    }
   ],
   "source": [
    "print('total training cat images:', len(os.listdir(train_cats_dir)))\n",
    "print('total training dog images:', len(os.listdir(train_dogs_dir)))\n",
    "print('total validation cat images:', len(os.listdir(validation_cats_dir)))\n",
    "print('total validation dog images:', len(os.listdir(validation_dogs_dir)))\n",
    "print('total test cat images:', len(os.listdir(test_cats_dir)))\n",
    "print('total test dog images:', len(os.listdir(test_dogs_dir)))"
   ]
  },
  {
   "cell_type": "code",
   "execution_count": 8,
   "metadata": {},
   "outputs": [
    {
     "name": "stderr",
     "output_type": "stream",
     "text": [
      "Using TensorFlow backend.\n",
      "WARNING: Logging before flag parsing goes to stderr.\n",
      "W0506 13:40:05.326550 4533769664 deprecation_wrapper.py:119] From /Users/RodolfoSaldanha/anaconda3/lib/python3.7/site-packages/keras/backend/tensorflow_backend.py:74: The name tf.get_default_graph is deprecated. Please use tf.compat.v1.get_default_graph instead.\n",
      "\n",
      "W0506 13:40:05.346469 4533769664 deprecation_wrapper.py:119] From /Users/RodolfoSaldanha/anaconda3/lib/python3.7/site-packages/keras/backend/tensorflow_backend.py:517: The name tf.placeholder is deprecated. Please use tf.compat.v1.placeholder instead.\n",
      "\n",
      "W0506 13:40:05.351372 4533769664 deprecation_wrapper.py:119] From /Users/RodolfoSaldanha/anaconda3/lib/python3.7/site-packages/keras/backend/tensorflow_backend.py:4138: The name tf.random_uniform is deprecated. Please use tf.random.uniform instead.\n",
      "\n",
      "W0506 13:40:05.366520 4533769664 deprecation_wrapper.py:119] From /Users/RodolfoSaldanha/anaconda3/lib/python3.7/site-packages/keras/backend/tensorflow_backend.py:3976: The name tf.nn.max_pool is deprecated. Please use tf.nn.max_pool2d instead.\n",
      "\n"
     ]
    }
   ],
   "source": [
    "from keras import layers\n",
    "from keras import models\n",
    "\n",
    "model = models.Sequential()\n",
    "model.add(layers.Conv2D(32, (3,3), activation='relu', input_shape=(150,150, 3)))\n",
    "model.add(layers.MaxPooling2D((2,2)))\n",
    "model.add(layers.Conv2D(64, (3,3), activation='relu'))\n",
    "model.add(layers.MaxPooling2D((2,2)))\n",
    "model.add(layers.Conv2D(128, (3,3), activation='relu'))\n",
    "model.add(layers.MaxPooling2D((2,2)))\n",
    "model.add(layers.Conv2D(128, (3,3), activation='relu'))\n",
    "model.add(layers.MaxPooling2D((2,2)))\n",
    "model.add(layers.Flatten())\n",
    "model.add(layers.Dropout(0.5))\n",
    "model.add(layers.Dense(512, activation='relu'))\n",
    "model.add(layers.Dense(1, activation='sigmoid'))"
   ]
  },
  {
   "cell_type": "code",
   "execution_count": 9,
   "metadata": {},
   "outputs": [
    {
     "name": "stdout",
     "output_type": "stream",
     "text": [
      "_________________________________________________________________\n",
      "Layer (type)                 Output Shape              Param #   \n",
      "=================================================================\n",
      "conv2d_1 (Conv2D)            (None, 148, 148, 32)      896       \n",
      "_________________________________________________________________\n",
      "max_pooling2d_1 (MaxPooling2 (None, 74, 74, 32)        0         \n",
      "_________________________________________________________________\n",
      "conv2d_2 (Conv2D)            (None, 72, 72, 64)        18496     \n",
      "_________________________________________________________________\n",
      "max_pooling2d_2 (MaxPooling2 (None, 36, 36, 64)        0         \n",
      "_________________________________________________________________\n",
      "conv2d_3 (Conv2D)            (None, 34, 34, 128)       73856     \n",
      "_________________________________________________________________\n",
      "max_pooling2d_3 (MaxPooling2 (None, 17, 17, 128)       0         \n",
      "_________________________________________________________________\n",
      "conv2d_4 (Conv2D)            (None, 15, 15, 128)       147584    \n",
      "_________________________________________________________________\n",
      "max_pooling2d_4 (MaxPooling2 (None, 7, 7, 128)         0         \n",
      "_________________________________________________________________\n",
      "flatten_1 (Flatten)          (None, 6272)              0         \n",
      "_________________________________________________________________\n",
      "dense_1 (Dense)              (None, 512)               3211776   \n",
      "_________________________________________________________________\n",
      "dense_2 (Dense)              (None, 1)                 513       \n",
      "=================================================================\n",
      "Total params: 3,453,121\n",
      "Trainable params: 3,453,121\n",
      "Non-trainable params: 0\n",
      "_________________________________________________________________\n"
     ]
    }
   ],
   "source": [
    "model.summary()"
   ]
  },
  {
   "cell_type": "code",
   "execution_count": 10,
   "metadata": {},
   "outputs": [
    {
     "name": "stderr",
     "output_type": "stream",
     "text": [
      "W0506 13:43:16.182976 4533769664 deprecation_wrapper.py:119] From /Users/RodolfoSaldanha/anaconda3/lib/python3.7/site-packages/keras/optimizers.py:790: The name tf.train.Optimizer is deprecated. Please use tf.compat.v1.train.Optimizer instead.\n",
      "\n",
      "W0506 13:43:16.190855 4533769664 deprecation_wrapper.py:119] From /Users/RodolfoSaldanha/anaconda3/lib/python3.7/site-packages/keras/backend/tensorflow_backend.py:3376: The name tf.log is deprecated. Please use tf.math.log instead.\n",
      "\n",
      "W0506 13:43:16.195683 4533769664 deprecation_wrapper.py:119] From /Users/RodolfoSaldanha/anaconda3/lib/python3.7/site-packages/keras/backend/tensorflow_backend.py:3378: The name tf.nn.sigmoid_cross_entropy_with_logits is deprecated. Please use tf.nn.sigmoid_cross_entropy_with_logits instead.\n",
      "\n"
     ]
    }
   ],
   "source": [
    "from keras import optimizers\n",
    "\n",
    "model.compile(loss='binary_crossentropy', optimizer=optimizers.RMSprop(lr=1e-4), metrics=['acc'])"
   ]
  },
  {
   "cell_type": "code",
   "execution_count": 14,
   "metadata": {},
   "outputs": [
    {
     "name": "stdout",
     "output_type": "stream",
     "text": [
      "Found 2000 images belonging to 2 classes.\n",
      "Found 1000 images belonging to 2 classes.\n"
     ]
    }
   ],
   "source": [
    "from keras.preprocessing.image import ImageDataGenerator\n",
    "\n",
    "train_datagen = ImageDataGenerator(rescale=1./255)\n",
    "test_datagen = ImageDataGenerator(rescale=1./255)\n",
    "\n",
    "train_generator = train_datagen.flow_from_directory(train_dir, target_size=(150, 150),\n",
    "                                                    batch_size=20, class_mode='binary')\n",
    "\n",
    "validation_generator = test_datagen.flow_from_directory(validation_dir, target_size=(150, 150),\n",
    "                                                        batch_size=20, class_mode='binary')"
   ]
  },
  {
   "cell_type": "code",
   "execution_count": 15,
   "metadata": {},
   "outputs": [
    {
     "name": "stdout",
     "output_type": "stream",
     "text": [
      "data batch shape: (20, 150, 150, 3)\n",
      "labels batch shape: (20,)\n"
     ]
    }
   ],
   "source": [
    "for data_batch, labels_batch in train_generator:\n",
    "    print('data batch shape:', data_batch.shape)\n",
    "    print('labels batch shape:', labels_batch.shape)\n",
    "    break\n"
   ]
  },
  {
   "cell_type": "code",
   "execution_count": 16,
   "metadata": {},
   "outputs": [
    {
     "name": "stdout",
     "output_type": "stream",
     "text": [
      "Epoch 1/30\n",
      "100/100 [==============================] - 75s 748ms/step - loss: 0.3589 - acc: 0.8450 - val_loss: 0.5528 - val_acc: 0.7260\n",
      "Epoch 2/30\n",
      "100/100 [==============================] - 71s 713ms/step - loss: 0.3334 - acc: 0.8570 - val_loss: 0.7670 - val_acc: 0.6820\n",
      "Epoch 3/30\n",
      "100/100 [==============================] - 71s 707ms/step - loss: 0.3055 - acc: 0.8765 - val_loss: 0.5984 - val_acc: 0.7330\n",
      "Epoch 4/30\n",
      "100/100 [==============================] - 70s 701ms/step - loss: 0.2846 - acc: 0.8835 - val_loss: 0.7324 - val_acc: 0.6910\n",
      "Epoch 5/30\n",
      "100/100 [==============================] - 73s 732ms/step - loss: 0.2608 - acc: 0.9015 - val_loss: 0.6230 - val_acc: 0.7140\n",
      "Epoch 6/30\n",
      "100/100 [==============================] - 74s 737ms/step - loss: 0.2395 - acc: 0.9005 - val_loss: 0.6093 - val_acc: 0.7370\n",
      "Epoch 7/30\n",
      "100/100 [==============================] - 78s 785ms/step - loss: 0.2193 - acc: 0.9195 - val_loss: 0.6649 - val_acc: 0.7200\n",
      "Epoch 8/30\n",
      "100/100 [==============================] - 72s 725ms/step - loss: 0.1922 - acc: 0.9285 - val_loss: 0.6625 - val_acc: 0.7290\n",
      "Epoch 9/30\n",
      "100/100 [==============================] - 77s 766ms/step - loss: 0.1756 - acc: 0.9355 - val_loss: 0.7868 - val_acc: 0.6920\n",
      "Epoch 10/30\n",
      "100/100 [==============================] - 81s 808ms/step - loss: 0.1549 - acc: 0.9455 - val_loss: 0.7482 - val_acc: 0.7190\n",
      "Epoch 11/30\n",
      "100/100 [==============================] - 82s 819ms/step - loss: 0.1354 - acc: 0.9575 - val_loss: 0.7177 - val_acc: 0.7240\n",
      "Epoch 12/30\n",
      "100/100 [==============================] - 76s 759ms/step - loss: 0.1226 - acc: 0.9590 - val_loss: 0.7624 - val_acc: 0.7200\n",
      "Epoch 13/30\n",
      "100/100 [==============================] - 81s 815ms/step - loss: 0.1016 - acc: 0.9705 - val_loss: 0.7924 - val_acc: 0.7260\n",
      "Epoch 14/30\n",
      "100/100 [==============================] - 83s 829ms/step - loss: 0.0898 - acc: 0.9720 - val_loss: 0.8185 - val_acc: 0.7240\n",
      "Epoch 15/30\n",
      "100/100 [==============================] - 84s 845ms/step - loss: 0.0753 - acc: 0.9790 - val_loss: 0.9853 - val_acc: 0.7190\n",
      "Epoch 16/30\n",
      "100/100 [==============================] - 84s 840ms/step - loss: 0.0700 - acc: 0.9785 - val_loss: 0.9957 - val_acc: 0.6880\n",
      "Epoch 17/30\n",
      "100/100 [==============================] - 81s 805ms/step - loss: 0.0576 - acc: 0.9830 - val_loss: 0.9946 - val_acc: 0.7040\n",
      "Epoch 18/30\n",
      "100/100 [==============================] - 81s 812ms/step - loss: 0.0483 - acc: 0.9900 - val_loss: 0.9657 - val_acc: 0.7220\n",
      "Epoch 19/30\n",
      "100/100 [==============================] - 85s 847ms/step - loss: 0.0426 - acc: 0.9895 - val_loss: 1.0216 - val_acc: 0.7210\n",
      "Epoch 20/30\n",
      "100/100 [==============================] - 77s 774ms/step - loss: 0.0344 - acc: 0.9910 - val_loss: 1.0575 - val_acc: 0.7280\n",
      "Epoch 21/30\n",
      "100/100 [==============================] - 80s 800ms/step - loss: 0.0332 - acc: 0.9905 - val_loss: 1.0628 - val_acc: 0.7260\n",
      "Epoch 22/30\n",
      "100/100 [==============================] - 77s 774ms/step - loss: 0.0295 - acc: 0.9935 - val_loss: 1.3659 - val_acc: 0.7140\n",
      "Epoch 23/30\n",
      "100/100 [==============================] - 77s 773ms/step - loss: 0.0204 - acc: 0.9940 - val_loss: 1.1270 - val_acc: 0.7270\n",
      "Epoch 24/30\n",
      "100/100 [==============================] - 81s 814ms/step - loss: 0.0181 - acc: 0.9970 - val_loss: 1.2570 - val_acc: 0.7250\n",
      "Epoch 25/30\n",
      "100/100 [==============================] - 83s 827ms/step - loss: 0.0244 - acc: 0.9945 - val_loss: 1.1907 - val_acc: 0.7380\n",
      "Epoch 26/30\n",
      "100/100 [==============================] - 73s 733ms/step - loss: 0.0177 - acc: 0.9955 - val_loss: 1.2718 - val_acc: 0.7330\n",
      "Epoch 27/30\n",
      "100/100 [==============================] - 73s 727ms/step - loss: 0.0164 - acc: 0.9945 - val_loss: 1.2278 - val_acc: 0.7330\n",
      "Epoch 28/30\n",
      "100/100 [==============================] - 74s 744ms/step - loss: 0.0195 - acc: 0.9935 - val_loss: 1.2891 - val_acc: 0.7310\n",
      "Epoch 29/30\n",
      "100/100 [==============================] - 73s 732ms/step - loss: 0.0109 - acc: 0.9975 - val_loss: 1.3462 - val_acc: 0.7220\n",
      "Epoch 30/30\n",
      "100/100 [==============================] - 73s 733ms/step - loss: 0.0190 - acc: 0.9955 - val_loss: 1.4129 - val_acc: 0.7250\n"
     ]
    }
   ],
   "source": [
    "history = model.fit_generator(train_generator, \n",
    "steps_per_epoch=100, epochs=30, validation_data=validation_generator,\n",
    "validation_steps=50)\n",
    "\n",
    "model.save('cats_and_dogs_small_1.h5')"
   ]
  },
  {
   "cell_type": "code",
   "execution_count": 17,
   "metadata": {},
   "outputs": [],
   "source": [
    "datagen = ImageDataGenerator(rotation_range=40, width_shift_range=0.2,\n",
    "height_shift_range=0.2, shear_range=0.2, horizontal_flip=True, fill_mode='nearest')\n",
    "\n",
    "from keras.preprocessing import image\n",
    "\n",
    "fnames = [os.path.join(train_cats_dir, fname) for\n",
    "fname in os.listdir(train_cats_dir)]\n",
    "\n",
    "img_path = fnames[3]\n",
    "\n",
    "img = image.load_img(img_path, target_size=(150, 150))\n",
    "\n",
    "x = image.img_to_array(img)\n",
    "\n",
    "x = x.reshape((1,) + x.shape)"
   ]
  },
  {
   "cell_type": "code",
   "execution_count": 22,
   "metadata": {},
   "outputs": [
    {
     "name": "stdout",
     "output_type": "stream",
     "text": [
      "Found 2000 images belonging to 2 classes.\n",
      "Found 1000 images belonging to 2 classes.\n",
      "Epoch 1/20\n",
      "100/100 [==============================] - 129s 1s/step - loss: 0.5273 - acc: 0.7338 - val_loss: 0.5130 - val_acc: 0.7551\n",
      "Epoch 2/20\n",
      "100/100 [==============================] - 163s 2s/step - loss: 0.5187 - acc: 0.7387 - val_loss: 0.4730 - val_acc: 0.7732\n",
      "Epoch 3/20\n",
      "100/100 [==============================] - 138s 1s/step - loss: 0.5219 - acc: 0.7456 - val_loss: 0.4904 - val_acc: 0.7608\n",
      "Epoch 4/20\n",
      "100/100 [==============================] - 128s 1s/step - loss: 0.5182 - acc: 0.7462 - val_loss: 0.5334 - val_acc: 0.7249\n",
      "Epoch 5/20\n",
      "100/100 [==============================] - 135s 1s/step - loss: 0.4942 - acc: 0.7553 - val_loss: 0.5540 - val_acc: 0.7386\n",
      "Epoch 6/20\n",
      "100/100 [==============================] - 132s 1s/step - loss: 0.4933 - acc: 0.7575 - val_loss: 0.4586 - val_acc: 0.7816\n",
      "Epoch 7/20\n",
      "100/100 [==============================] - 118s 1s/step - loss: 0.4869 - acc: 0.7678 - val_loss: 0.4549 - val_acc: 0.7792\n",
      "Epoch 8/20\n",
      "100/100 [==============================] - 123s 1s/step - loss: 0.4865 - acc: 0.7603 - val_loss: 0.5407 - val_acc: 0.7384\n",
      "Epoch 9/20\n",
      "100/100 [==============================] - 126s 1s/step - loss: 0.4771 - acc: 0.7672 - val_loss: 0.6556 - val_acc: 0.7178\n",
      "Epoch 10/20\n",
      "100/100 [==============================] - 126s 1s/step - loss: 0.4853 - acc: 0.7662 - val_loss: 0.4645 - val_acc: 0.7779\n",
      "Epoch 11/20\n",
      "100/100 [==============================] - 116s 1s/step - loss: 0.4807 - acc: 0.7700 - val_loss: 0.4608 - val_acc: 0.7945\n",
      "Epoch 12/20\n",
      "100/100 [==============================] - 113s 1s/step - loss: 0.4796 - acc: 0.7684 - val_loss: 0.4680 - val_acc: 0.7805\n",
      "Epoch 13/20\n",
      "100/100 [==============================] - 110s 1s/step - loss: 0.4767 - acc: 0.7734 - val_loss: 0.4600 - val_acc: 0.7758\n",
      "Epoch 14/20\n",
      "100/100 [==============================] - 109s 1s/step - loss: 0.4646 - acc: 0.7816 - val_loss: 0.4726 - val_acc: 0.7716\n",
      "Epoch 15/20\n",
      "100/100 [==============================] - 110s 1s/step - loss: 0.4670 - acc: 0.7750 - val_loss: 0.4677 - val_acc: 0.7803\n",
      "Epoch 16/20\n",
      "100/100 [==============================] - 114s 1s/step - loss: 0.4684 - acc: 0.7797 - val_loss: 0.4581 - val_acc: 0.7803\n",
      "Epoch 17/20\n",
      "100/100 [==============================] - 110s 1s/step - loss: 0.4672 - acc: 0.7750 - val_loss: 0.4358 - val_acc: 0.8014\n",
      "Epoch 18/20\n",
      "100/100 [==============================] - 111s 1s/step - loss: 0.4471 - acc: 0.7938 - val_loss: 0.4572 - val_acc: 0.7880\n",
      "Epoch 19/20\n",
      "100/100 [==============================] - 109s 1s/step - loss: 0.4520 - acc: 0.7784 - val_loss: 0.4775 - val_acc: 0.7779\n",
      "Epoch 20/20\n",
      "100/100 [==============================] - 133s 1s/step - loss: 0.4599 - acc: 0.7838 - val_loss: 0.4773 - val_acc: 0.7854\n"
     ]
    }
   ],
   "source": [
    "train_datagen = ImageDataGenerator(\n",
    "rescale=1./255,\n",
    "rotation_range=40,\n",
    "width_shift_range=0.2,\n",
    "height_shift_range=0.2,\n",
    "shear_range=0.2,\n",
    "zoom_range=0.2,\n",
    "horizontal_flip=True,)\n",
    "\n",
    "test_datagen = ImageDataGenerator(rescale=1./255)\n",
    "\n",
    "train_generator = train_datagen.flow_from_directory(\n",
    "train_dir,\n",
    "target_size=(150, 150),\n",
    "batch_size=32,\n",
    "class_mode='binary')\n",
    "\n",
    "validation_generator = test_datagen.flow_from_directory(\n",
    "validation_dir,\n",
    "target_size=(150, 150),\n",
    "batch_size=32,\n",
    "class_mode='binary')\n",
    "\n",
    "history = model.fit_generator(\n",
    "train_generator,\n",
    "steps_per_epoch=100,\n",
    "epochs=20,\n",
    "validation_data=validation_generator,\n",
    "validation_steps=50)"
   ]
  },
  {
   "cell_type": "code",
   "execution_count": null,
   "metadata": {},
   "outputs": [],
   "source": []
  }
 ],
 "metadata": {
  "kernelspec": {
   "display_name": "Python 3",
   "language": "python",
   "name": "python3"
  },
  "language_info": {
   "codemirror_mode": {
    "name": "ipython",
    "version": 3
   },
   "file_extension": ".py",
   "mimetype": "text/x-python",
   "name": "python",
   "nbconvert_exporter": "python",
   "pygments_lexer": "ipython3",
   "version": "3.7.3"
  }
 },
 "nbformat": 4,
 "nbformat_minor": 2
}
